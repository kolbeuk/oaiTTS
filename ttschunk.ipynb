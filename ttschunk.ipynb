{
 "cells": [
  {
   "cell_type": "code",
   "execution_count": 48,
   "id": "c085770b-e113-48a6-8d7e-7ef901ff4e61",
   "metadata": {},
   "outputs": [],
   "source": [
    "from openai import OpenAI"
   ]
  },
  {
   "cell_type": "code",
   "execution_count": 49,
   "id": "ec1f63e3-81f8-4a83-b001-7e554f3997e2",
   "metadata": {},
   "outputs": [],
   "source": [
    "client = OpenAI()"
   ]
  },
  {
   "cell_type": "code",
   "execution_count": 50,
   "id": "f575a43a-0a60-4af8-bce5-040e8bbc9944",
   "metadata": {},
   "outputs": [
    {
     "name": "stdout",
     "output_type": "stream",
     "text": [
      "Number of characters in the file: 15378\n",
      "Estimated cost: $0.23\n"
     ]
    }
   ],
   "source": [
    "# Calculate the number of characters in the file\n",
    "with open('transcribed_text.txt', 'r') as file:\n",
    "    transcribed_text = file.read()\n",
    "    num_characters = len(transcribed_text)\n",
    "\n",
    "# Calculate the estimated cost\n",
    "rate_per_1000_characters = 0.015\n",
    "cost_estimate = (num_characters / 1000) * rate_per_1000_characters\n",
    "\n",
    "# Print the number of characters and cost estimate\n",
    "print(f\"Number of characters in the file: {num_characters}\")\n",
    "print(f\"Estimated cost: ${cost_estimate:.2f}\")"
   ]
  },
  {
   "cell_type": "code",
   "execution_count": 51,
   "id": "b66da1a7",
   "metadata": {},
   "outputs": [],
   "source": [
    "# Split the transcribed text into sentences based on full stops\n",
    "sentences = transcribed_text.split('.')\n",
    "\n",
    "# Combine sentences\n",
    "combined_sentences = combine_sentences(sentences)"
   ]
  },
  {
   "cell_type": "code",
   "execution_count": 52,
   "id": "18d5cea1",
   "metadata": {},
   "outputs": [
    {
     "name": "stdout",
     "output_type": "stream",
     "text": [
      "                                  Combined Sentences  Character Count\n",
      "0   People with mission-critical apps need to dec...             3943\n",
      "1  Hi  For those of you who don't know me, my nam...             3925\n",
      "2   Market research data and our gut feelings fro...             3887\n",
      "3   So let's say Sun or Next spend their hard-ear...             3620\n"
     ]
    }
   ],
   "source": [
    "import pandas as pd\n",
    "\n",
    "# Assuming you have a function like combine_sentences defined\n",
    "combined_sentences = combine_sentences(sentences)\n",
    "\n",
    "# Create a DataFrame to store the combined sentences and their character counts\n",
    "data = {'Combined Sentences': combined_sentences, 'Character Count': [len(chunk) for chunk in combined_sentences]}\n",
    "df = pd.DataFrame(data)\n",
    "\n",
    "# Sort the DataFrame by 'Character Count' in descending order\n",
    "df = df.sort_values(by='Character Count', ascending=False)\n",
    "\n",
    "# Reset the index to start with the highest character count at the top\n",
    "df = df.reset_index(drop=True)\n",
    "\n",
    "# Print the DataFrame\n",
    "print(df)\n"
   ]
  },
  {
   "cell_type": "code",
   "execution_count": 53,
   "id": "7a94f189-4166-4a74-9b4b-3d8724b8ce93",
   "metadata": {},
   "outputs": [],
   "source": [
    "def process_streaming_audio(text_chunk):\n",
    "    try:\n",
    "        # Initialize the streaming session\n",
    "        response = client.audio.speech.create(\n",
    "            model=\"tts-1\",\n",
    "            voice=\"shimmer\",\n",
    "            input=text_chunk,  # Set the input to the text chunk\n",
    "        )\n",
    "        # Rest of your code to process the streaming session\n",
    "\n",
    "        return response  # Return the response object\n",
    "\n",
    "    except Exception as e:\n",
    "        print(f\"An error occurred: {e}\")\n",
    "        return None  # Return None in case of an error"
   ]
  },
  {
   "cell_type": "code",
   "execution_count": null,
   "metadata": {},
   "outputs": [],
   "source": [
    "def combine_sentences(sentences, max_chars=4000):\n",
    "    combined = []\n",
    "    current_chunk = \"\"\n",
    "    \n",
    "    for sentence in sentences:\n",
    "        # Check if adding the next sentence would exceed the limit\n",
    "        if len(current_chunk) + len(sentence) + 1 > max_chars:\n",
    "            combined.append(current_chunk)\n",
    "            current_chunk = sentence\n",
    "        else:\n",
    "            # Add a space before the sentence if it's not the first sentence in the chunk\n",
    "            if current_chunk:\n",
    "                current_chunk += \" \"\n",
    "            current_chunk += sentence\n",
    "    \n",
    "    # Add the last chunk if it's not empty\n",
    "    if current_chunk:\n",
    "        combined.append(current_chunk)\n",
    "\n",
    "    return combined"
   ]
  },
  {
   "cell_type": "code",
   "execution_count": 54,
   "metadata": {},
   "outputs": [],
   "source": [
    "# Define a function to append audio data to the main file\n",
    "def append_to_file(source_file, target_file):\n",
    "    with open(source_file, 'rb') as src, open(target_file, 'ab') as tgt:\n",
    "        tgt.write(src.read())"
   ]
  },
  {
   "cell_type": "code",
   "execution_count": 55,
   "id": "d2a57a85-0943-48e9-a28f-51c6993c758d",
   "metadata": {},
   "outputs": [
    {
     "name": "stdout",
     "output_type": "stream",
     "text": [
      "Hi  For those of you who don't know me, my name is Simon Client, and this is the first of many chalk talks we're going to have here together  The subject to this one is essential: who is our target customer? Why are they selecting our products over our competitors? What distribution channels are we going to use to reach these customers? A lot of light bulbs have come on over the last 90 days  I've had the good fortune to be with many of you out in the field, meaning customers get first-hand information about what they're doing with our products  You have fed a lot of information to the management of this company  We've done a lot of thinking and looked at the data, and all of a sudden, out of this data, some very, very important things have come to light  I want to share them with you today  Historically, We've struggled to figure out exactly who our customers are and we want to show you why  When we first look at the workstation marketplace, look something like this and the biggest player, as you know, in the workstation marketplace is Sun  The second biggest player is HP Apollo  The third biggest player is a Deck, and IBM, with the RS6000, is also in the game  And then, outside the workstation marketplace, the huge market for PCs and Macintoshes, the traditional personal computer market  We looked at the workstation marketplace and said, wow, we have multitasking  We have great networking, just like the workstations  We use Unix  We have a pretty good development environment  So we're a lot like these folks, but then again, they don't really care about user interface or haven't been able to execute on it if they do  They don't have great third-party application software; these are not machines for mere mortals  So we're not like them at all, and then we look at the PCs and strive to get a suite of applications software that allows us to be just like these folks  We strive to attain ease of use and are actually easier to use than even a Macintosh today  So we're a lot like these folks, but then again, we have multitasking and networking that is to magnitude beyond what you can do with the PC today  So over the last year, we've oscillated back and forth between thinking that the PCs and the Macs were our competitors and this is where we wanted to be, or the workstations were our competitors, and this is where we wanted to be  Are we an easier-to-use workstation, or are we a more powerful PC? And had it not been for a revelation five or six months ago, we probably would still be oscillating today  And that revelation was that somebody turned up the power of our microscope a little bit, and we saw something significant  And what we saw was that the workstation marketplace is really not just one workstation marketplace, but two  There's the traditional half, which we've come to know in love, science and engineering, which looks like this  But a new half is emerging, which we're calling the professional half  That is, professionals who are not scientists and engineers who want the power of workstations  Inside this marketplace are several sub-markets: publishing, the high end of the publishing market, tech pubs, medical, database-driven applications, higher education, etc , legal markets, and many, many markets are in here  And what's very interesting is that Sun is the only company that seems to have leaked out a beachhead over here  And our data says that in 1990, Sun sold around 40,000 computers into this market and had about an 80% market share  So the entire professional workstation market in 1990 was about 50,000 units  And Sun had the majority share  That's why we didn't see it before  It was such a small blip compared to the workstation or PC marketplace that it did not appear on our radar screen  But we've seen it now  And it's good that we have because this is a marketplace that we can dominate  And it's a marketplace that's going to be very large\n",
      " Market research data and our gut feelings from many years in the industry say that this marketplace in 91 will grow to about 100,000 units in size  It's going to double this year  And next year, in 92, it will triple to about 300,000 units  That is a substantial marketplace  This marketplace is also exciting because 100% of our volume goes in here  In other words, if we could ship 50,000 computers into all these markets this year, we would have a 50% market share of one of the fastest-growing segments of the entire computer industry  Now, let's examine why this thing is going to grow  What will cause this thing to grow from 50 to 100,000 to 300,000 units? Clearly, these people are not deciding to stop being engineers and go to business school and reemerge over here  That's not how it's going to grow  It's going to grow from two factors  Number one, these folks move in  PCs and Mac owners need more sophisticated networking, development environments, etc  Deciding they need to step up to workstations  And one other class of users  Many people are now using 3270 terminals or terminal emulators hooked up to a mainframe  For database-driven applications, more and more, they are deciding to move their applications onto a powerful desktop workstation connected via networking to the mainframe so that they can get the application out of the mainframe and onto the desktop for more rapid development for better user interface and for better economics  These two factors will cause this market to increase almost an order of magnitude over the next 24 months, and we can get half of it  One of the things that is very interesting is that Sun is today the major participant in this marketplace, with an 80% market share  And I don't see too many other people being able to move into this marketplace over the next few years  I believe Sun will remain our major competitor  The funny thing is while we're convincing these people using PCs and Macs and these people using 3270 terminals or equivalents to move into the professional workstation segment, Sun is if you will, friend because they're going to spend their marketing money to convince people to move into this segment  But the minute they decide to move into this segment, whether we've convinced them or Sun has convinced them, Sun and Next are mortal enemies  But the good news we'll talk about in a minute is that we've had a chance to suit up against Sun with our new products about 15 times in the last 90 days, and we've won 15 at a 15  Now, we want to address what is compelling these people to move into this new category of professional workstations  And secondly, once they've decided to make the move into the category, why are we going to beat Sun? Let's take a look  There are three primary reasons  The first one is that every customer we've talked to here needs to write one custom application  They've got one mission-critical app that they've got to write  And so, the development environment becomes critical  In addition to that, these applications are very network intensive  So they need sophisticated networking capabilities, which they cannot find on PCs and Macs  Third, these applications are primarily database-driven, meaning they want to write the application on the desktop  But this application on the desktop machine, through sophisticated networking, will communicate with SQL databases running in either an IBM mainframe or Oracle or Sybase on a Sequent machine  So, they need the networking sophistication and the ability to seamlessly talk to databases running on large servers  They cannot begin to get the development environment, the networking, and the database sophistication together from these classes of products  So, the first thing we see is that the custom app is the key driving these people to upgrade from PCs and workstations  And even down here, we see the same thing\n",
      " People with mission-critical apps need to decide they don't want to write the application itself on the mainframe and use it via a terminal  Rather, they want to write the application in a much better development environment where they can create the app much faster, with a much better user interface, much more cost-effectively, and talk to the database on the mainframe through sophisticated networking  So custom applications are our number one reason driving people into this category  The second reason may come up initially, or it may come up secondarily for the first sale of products to the customer, or it may even come up in a secondary sale three to six months down the road  And that is the desire to use great productivity apps  That's number two  Great productivity apps  For example, when it comes up in the first sale, people will often want their employees to use the custom app 90% of the time but still need productivity apps 10% of the time  But more likely, they will start to understand that they want to put our workstations on the desks of a wider audience than just needing to use the custom app  They'll want to include more administrative and marketing personnel and have them all on the same network so they can share the interpersonal computing our system provides  And productivity apps will come into play  To the extent that we have even better productivity apps available on PCs  And to the extent that those productivity apps use the network to tie people together  We're going to win  A perfect example is, of course, Lotus Improv  Another example is the full wig word perfect  A third example will be our advanced version of Adobe Illustrator, which ships in the next 60 days  So, having better productivity apps will be important to the primary sale  I believe we're starting to see that Boston is a good example in the financial services market that I forgot to draw  For a company where we sold 40 or 50 computers primarily for the custom app in one group three months later, a second group comes back and wants to buy over a thousand computers for another group that is more concerned now with great productivity apps as the computer starts to spread more widely in the organization  Interpersonal computing is The third reason people are moving in, which I think will not become paramount in 1991 but, within 24 months, will be the largest reason people are buying our computers  Improving group productivity and collaboration through the use of sophisticated desktop computers  And right now, when we first meet a customer, we tell them about interpersonal computing  I'm sure most of them would rather hear about the custom app solutions and our great productivity apps  And as these customers become educated in the sales cycle, I'm sure all of you have seen the value of interpersonal computing rise in their eyes  As we are successful customer by customer over the next year to 18 months, interpersonal computing will rise on the customer's agenda of what's important even as we walk in the door  As Regis McKenna once said, the best marketing is education  As we accomplish that education, more and more customers will be asking us about interpersonal computing versus us having to educate them  Interpersonal computing again relies on a very powerful desktop computer and very sophisticated networking, neither of which are available in these classes of machines  So, if an organization wants to use interpersonal computing again, they are compelled into the professional workstation category  Now, we pretty much know that everyone considering purchasing the next computers at one point or another in the sales cycle calls up Sun  They are foolish not to  Unfortunately, the reciprocal is not yet true  Our goal is to make it so that everyone considering a purchase of a Sun calls us up, and you will see more and more of our marketing targeted to try to make this happen as the year rolls on\n",
      " So let's say Sun or Next spend their hard-earned marketing dollars and sales energy to convince a customer to move into this category  Being smart, the customer calls up the other company so that Sun and Next are always competing for every order  What are our key competitive strengths against Sun? It turns out that they are the three things driving people into the category in the first place  We couldn't ask for a much better situation  Let's examine them  Custom applications, it turns out that our development environment is vastly superior to Sun's, and this is being decided not by us but by our customer's best technical people when they return from our software camp  Our best competitive weapon to illustrate this point is to get our customer's best two or three developers to spend a week and to come to Redwood City or Pittsburgh and go through our developer camp  They will go back raving about the next step and telling their own management that the next step will allow them to build their custom app three times faster than Sun  We've had a lot of experience in this so far, and I think one of the things we need to do is to use our software camp more  We're not seeing enough corporate developers through the software camp  We're not getting potential customers to send their best technical people through our software camp either soon enough in the sales cycle or at all, and it's an area where we could get more benefit  Secondly, once they're in this category comparing us with Sun, the comparison of productivity apps really tilts in our favour  We now have The productivity apps suite and are in the process of getting dwarfed that of Sun  Not only do we have more apps that are easier to use for this customer, but we have the breakthrough ones  We have the Lotus Improv  We have the WizzyWig word perfect, et cetera  Once they're in this category, the productivity app comparison is no longer against these guys; it's against Sun, and we're winning hands down  The third interpersonal computing, a demo, will rapidly communicate how superior next is in interpersonal computing  We will supply you with a videotape of a demo we've been using a lot  I would suggest you use it to show your customers, and I would suggest you get the software on this videotape and learn how to demo yourself  Very rapidly, we have convinced customers that because of our multimedia features and ease of use features, these people can use interpersonal computing on our system to achieve a far superior result than they can with Suns  So these are the three competitive weapons that we have against Sun  As we use them to move people into the category, they are already very well positioned to see us in a favourable light once they're inside the category  So, I hope this gives you a feel for what we've learned in the last 90 to 120 days  I have no doubt that we will continue to learn more and more together at an ever-accelerating rate as we get more and more customers  We've been listening a lot to them  We intend to listen even more to them to continue refining this professional workstation, market definition, and what is important to these customers and our competitive position against our number one competitor, Sun  I hope this has proved useful  I'm really excited to hear some of your comments and thoughts about what you think of all this and, of course, more and more information about how we continue to refine it in the future  Thanks a lot  Give me some feedback if this is a successful way of communicating, and I'm sure I'll see most of you soon, and I'll see you all at the retreat  Thanks \n"
     ]
    }
   ],
   "source": [
    "# Process each combined chunk\n",
    "for chunk in combined_sentences:\n",
    "    response = process_streaming_audio(chunk)\n",
    "    print(chunk)\n",
    "    if response:\n",
    "        temp_filename = \"temp_output.mp3\"\n",
    "        response.stream_to_file(temp_filename)\n",
    "        append_to_file(temp_filename, \"output.mp3\")"
   ]
  }
 ],
 "metadata": {
  "kernelspec": {
   "display_name": "Python 3 (ipykernel)",
   "language": "python",
   "name": "python3"
  },
  "language_info": {
   "codemirror_mode": {
    "name": "ipython",
    "version": 3
   },
   "file_extension": ".py",
   "mimetype": "text/x-python",
   "name": "python",
   "nbconvert_exporter": "python",
   "pygments_lexer": "ipython3",
   "version": "3.11.6"
  }
 },
 "nbformat": 4,
 "nbformat_minor": 5
}
