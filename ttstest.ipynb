{
 "cells": [
  {
   "cell_type": "code",
   "execution_count": 3,
   "id": "c085770b-e113-48a6-8d7e-7ef901ff4e61",
   "metadata": {},
   "outputs": [],
   "source": [
    "from pathlib import Path\n",
    "from openai import OpenAI"
   ]
  },
  {
   "cell_type": "code",
   "execution_count": 4,
   "id": "ec1f63e3-81f8-4a83-b001-7e554f3997e2",
   "metadata": {},
   "outputs": [],
   "source": [
    "client = OpenAI()"
   ]
  },
  {
   "cell_type": "code",
   "execution_count": 11,
   "id": "f575a43a-0a60-4af8-bce5-040e8bbc9944",
   "metadata": {},
   "outputs": [],
   "source": [
    "response = client.audio.speech.create(\n",
    "    model=\"tts-1\",\n",
    "    voice=\"fable\",\n",
    "    input=\"Hello everyone, welcome to today's session where we'll be diving into the 5 Whys, a powerful problem-solving tool used across various industries. Whether you're dealing with complex business challenges or looking to improve processes, understanding this technique is invaluable. I will handover to my teammate Echo for the details.\",\n",
    ")\n",
    "\n",
    "response.stream_to_file(\"output.mp3\")"
   ]
  },
  {
   "cell_type": "code",
   "execution_count": 9,
   "id": "7a94f189-4166-4a74-9b4b-3d8724b8ce93",
   "metadata": {},
   "outputs": [],
   "source": [
    "response = client.audio.speech.create(\n",
    "    model=\"tts-1\",\n",
    "    voice=\"echo\",\n",
    "    input=\"Thank You Nova for that great introduction. Today, we're exploring the 5 Whys, a method originally developed within Toyota's manufacturing system. It's a simple yet effective tool for uncovering the root cause of a problem. Let's start with identifying the problem. This step is crucial and requires a clear, concise statement. For instance, Why was our product launch delayed? Next, we ask the first Why? In our example, it could be, Why was the marketing material late? This response leads us to the next question. We continue this process, each time based on the previous answer. 'Why were the materials late? Because the design team received delayed inputs.' Each answer should lead to another Why? As we go deeper, each Why helps us peel away the layers of symptoms. It's like detective work, where each question brings us closer to the root cause. Finally, we reach a point where no further information can be gleaned. Often, this happens after about five questions, hence the name 5 Whys. In our example, the root cause might be a flawed communication process. And now back to Nova\",\n",
    ")\n",
    "\n",
    "response.stream_to_file(\"output2.mp3\")"
   ]
  },
  {
   "cell_type": "code",
   "execution_count": 10,
   "id": "1065205b-3c09-4155-8322-02694185ec2b",
   "metadata": {},
   "outputs": [],
   "source": [
    "response = client.audio.speech.create(\n",
    "    model=\"tts-1\",\n",
    "    voice=\"nova\",\n",
    "    input=\"Thank you Echo. To conclude, the 5 Whys is more than just asking questions; it's about understanding the deeper cause-and-effect relationships in problems. It's a tool that promotes critical thinking and can be incredibly effective in both personal and professional contexts. I encourage you to apply this technique in your next problem-solving session. Remember, the goal is to find solutions that address the root cause, not just the symptoms. Thank you for joining me today. If you found this information useful, please like, share, and subscribe for more insightful content. See you in the next video!\",\n",
    ")\n",
    "\n",
    "response.stream_to_file(\"output3.mp3\")"
   ]
  },
  {
   "cell_type": "code",
   "execution_count": 17,
   "id": "036d94f7-9591-429a-bc82-f6f701defab6",
   "metadata": {},
   "outputs": [],
   "source": [
    "response = client.audio.speech.create(\n",
    "    model=\"tts-1\",\n",
    "    voice=\"nova\",\n",
    "    input=\"Cómo ser un mejor comunicador La escucha activa es una habilidad de comunicación vital que puede mejorar sus relaciones personales y profesionales. Aquí hay una guía rápida para usar técnicas de escucha activa: - Mantenga el contacto visual y tenga un lenguaje corporal abierto y relajado para mostrar al orador que está involucrado. Inclínese ligeramente y evite movimientos distraídos. - Parafrasee lo que escuchó en sus propias palabras para confirmar la comprensión. Por ejemplo, Entonces, si estoy entendiendo correctamente, ¿siente frustración por el nuevo proceso inefficiente? - Haga preguntas de seguimiento abiertas como ¿Qué te hace sentir así? para alentarlos a elaborar. - Evite interrumpir o intervenir con sus propias perspectivas. Pausa antes de responder. - Resuma los puntos clave que escuchó para mostrar que estaba escuchando atentamente. El uso de la escucha activa muestra al orador que le importa lo que tiene que decir. Construye confianza y lazos más fuertes. Intente integrar estos consejos en sus conversaciones para convertirse en un mejor comunicador.\",\n",
    ")\n",
    "\n",
    "response.stream_to_file(\"s1.mp3\")"
   ]
  },
  {
   "cell_type": "code",
   "execution_count": null,
   "id": "d2a57a85-0943-48e9-a28f-51c6993c758d",
   "metadata": {},
   "outputs": [],
   "source": []
  }
 ],
 "metadata": {
  "kernelspec": {
   "display_name": "Python 3 (ipykernel)",
   "language": "python",
   "name": "python3"
  },
  "language_info": {
   "codemirror_mode": {
    "name": "ipython",
    "version": 3
   },
   "file_extension": ".py",
   "mimetype": "text/x-python",
   "name": "python",
   "nbconvert_exporter": "python",
   "pygments_lexer": "ipython3",
   "version": "3.12.0"
  }
 },
 "nbformat": 4,
 "nbformat_minor": 5
}
