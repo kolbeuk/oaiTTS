{
 "cells": [
  {
   "cell_type": "code",
   "execution_count": null,
   "id": "c085770b-e113-48a6-8d7e-7ef901ff4e61",
   "metadata": {},
   "outputs": [],
   "source": [
    "%pip install openai"
   ]
  },
  {
   "cell_type": "code",
   "execution_count": null,
   "id": "ec1f63e3-81f8-4a83-b001-7e554f3997e2",
   "metadata": {},
   "outputs": [],
   "source": [
    "from pathlib import Path\n",
    "from openai import OpenAI"
   ]
  },
  {
   "cell_type": "code",
   "execution_count": null,
   "id": "f575a43a-0a60-4af8-bce5-040e8bbc9944",
   "metadata": {},
   "outputs": [],
   "source": [
    "client = OpenAI()"
   ]
  },
  {
   "cell_type": "code",
   "execution_count": null,
   "id": "d2a57a85-0943-48e9-a28f-51c6993c758d",
   "metadata": {},
   "outputs": [],
   "source": [
    "# Open the file and read its contents\n",
    "with open('Internal NeXT video (1991).txt', 'r') as file:\n",
    "    file_contents = file.read()\n",
    "\n",
    "# Use the contents of the file as input for the TTS API\n",
    "response = client.audio.speech.create(\n",
    "    model=\"tts-1\",\n",
    "    voice=\"fable\",\n",
    "    input=file_contents\n",
    ")\n",
    "\n",
    "# Save the audio output to a file\n",
    "response.stream_to_file(\"output.mp3\")"
   ]
  }
 ],
 "metadata": {
  "kernelspec": {
   "display_name": "Python 3 (ipykernel)",
   "language": "python",
   "name": "python3"
  },
  "language_info": {
   "codemirror_mode": {
    "name": "ipython",
    "version": 3
   },
   "file_extension": ".py",
   "mimetype": "text/x-python",
   "name": "python",
   "nbconvert_exporter": "python",
   "pygments_lexer": "ipython3",
   "version": "3.12.0"
  }
 },
 "nbformat": 4,
 "nbformat_minor": 5
}
