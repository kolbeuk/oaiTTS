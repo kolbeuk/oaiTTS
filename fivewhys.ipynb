{
 "cells": [
  {
   "cell_type": "code",
   "execution_count": null,
   "id": "ec1f63e3-81f8-4a83-b001-7e554f3997e2",
   "metadata": {},
   "outputs": [],
   "source": [
    "from pathlib import Path\n",
    "from openai import OpenAI\n",
    "import json"
   ]
  },
  {
   "cell_type": "code",
   "execution_count": null,
   "id": "af7f489f-d828-4f60-aaaf-b29e3ccb57e2",
   "metadata": {},
   "outputs": [],
   "source": [
    "# To run this script, you need an API key from OpenAI. \n",
    "# Obtain the key from https://openai.com/blog/openai-api and set it up as per OpenAI's documentation.\n",
    "# Initialize the OpenAI client\n",
    "client = OpenAI()  "
   ]
  },
  {
   "cell_type": "code",
   "execution_count": null,
   "id": "c7d5ad3f-250c-4ca3-a8e9-7ff0434272e2",
   "metadata": {},
   "outputs": [],
   "source": [
    "# Step 1: Read the conversation data from a JSON file. This JSON file contains the conversation,\n",
    "# with each entry comprising a 'speaker' and their corresponding 'text'.\n",
    "with open('conversation.json', 'r') as file:\n",
    "    data = json.load(file)"
   ]
  },
  {
   "cell_type": "code",
   "execution_count": null,
   "id": "f575a43a-0a60-4af8-bce5-040e8bbc9944",
   "metadata": {},
   "outputs": [],
   "source": [
    "# Iterate over the conversation entries and generate audio for each segment.\n",
    "for i, entry in enumerate(data['conversation']):\n",
    "    speaker = entry['speaker']\n",
    "    text = entry['text']\n",
    "\n",
    "    # Generate speech from text using the TTS service.\n",
    "    response = client.audio.speech.create(\n",
    "        model=\"tts-1\",\n",
    "        voice=speaker,  # Ensure the 'voice' parameter corresponds to the TTS service's available voices.\n",
    "        input=text\n",
    "    )\n",
    "\n",
    "    # Save the generated audio to an MP3 file, with a unique filename for each segment.\n",
    "    filename = f\"rp-fivewhyss{i+1}.mp3\"  # Filenames will be output1.mp3, output2.mp3, etc.\n",
    "    response.stream_to_file(filename)\n",
    "    print(f\"Saved audio segment {i+1} to {filename}\")"
   ]
  },
  {
   "cell_type": "code",
   "execution_count": null,
   "id": "0d44e22a-c5d5-4838-8357-4e241ce678d2",
   "metadata": {},
   "outputs": [],
   "source": []
  }
 ],
 "metadata": {
  "kernelspec": {
   "display_name": "Python 3 (ipykernel)",
   "language": "python",
   "name": "python3"
  },
  "language_info": {
   "codemirror_mode": {
    "name": "ipython",
    "version": 3
   },
   "file_extension": ".py",
   "mimetype": "text/x-python",
   "name": "python",
   "nbconvert_exporter": "python",
   "pygments_lexer": "ipython3",
   "version": "3.11.6"
  }
 },
 "nbformat": 4,
 "nbformat_minor": 5
}
